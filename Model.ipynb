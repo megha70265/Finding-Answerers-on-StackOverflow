{
 "cells": [
  {
   "cell_type": "code",
   "execution_count": 1,
   "id": "1bddf37b",
   "metadata": {},
   "outputs": [],
   "source": [
    "import pandas as pd\n",
    "import numpy as np"
   ]
  },
  {
   "cell_type": "code",
   "execution_count": 2,
   "id": "c77610bb",
   "metadata": {},
   "outputs": [],
   "source": [
    "data=pd.read_csv(r\"C:\\Users\\Megha\\Desktop\\SOCIAL & INFORMATION\\Project\\QueryResults (1).csv\")"
   ]
  },
  {
   "cell_type": "code",
   "execution_count": 3,
   "id": "f684523b",
   "metadata": {},
   "outputs": [
    {
     "name": "stdout",
     "output_type": "stream",
     "text": [
      "(40000, 11)\n"
     ]
    }
   ],
   "source": [
    "df=data.drop(['DeletionDate','ViewCount','OwnerDisplayName','LastEditorUserId', 'LastEditorDisplayName',\n",
    "       'LastEditDate', 'LastActivityDate','CommentCount', 'FavoriteCount', 'ClosedDate', 'CommunityOwnedDate',\n",
    "       'ContentLicense'],axis='columns')\n",
    "df.head(6)\n",
    "print(df.shape)"
   ]
  },
  {
   "cell_type": "code",
   "execution_count": 4,
   "id": "19fde36c",
   "metadata": {},
   "outputs": [],
   "source": [
    "df=df.fillna(0)"
   ]
  },
  {
   "cell_type": "code",
   "execution_count": 5,
   "id": "7a46814f",
   "metadata": {},
   "outputs": [
    {
     "data": {
      "text/plain": [
       "(13395, 10)"
      ]
     },
     "execution_count": 5,
     "metadata": {},
     "output_type": "execute_result"
    }
   ],
   "source": [
    "questions= df[df['PostTypeId'] ==1]\n",
    "questions=questions.drop(['ParentId'],axis=\"columns\")\n",
    "questions.shape"
   ]
  },
  {
   "cell_type": "code",
   "execution_count": 6,
   "id": "118e4c41",
   "metadata": {},
   "outputs": [
    {
     "data": {
      "text/plain": [
       "(26561, 11)"
      ]
     },
     "execution_count": 6,
     "metadata": {},
     "output_type": "execute_result"
    }
   ],
   "source": [
    "answers=df[df[\"PostTypeId\"]==2]\n",
    "answers.shape"
   ]
  },
  {
   "cell_type": "code",
   "execution_count": 7,
   "id": "6d503308",
   "metadata": {},
   "outputs": [],
   "source": [
    "from sklearn.model_selection import train_test_split"
   ]
  },
  {
   "cell_type": "code",
   "execution_count": 8,
   "id": "a1f11346",
   "metadata": {},
   "outputs": [
    {
     "data": {
      "text/plain": [
       "Id                  float64\n",
       "PostTypeId          float64\n",
       "AcceptedAnswerId    float64\n",
       "Score               float64\n",
       "OwnerUserId         float64\n",
       "AnswerCount         float64\n",
       "dtype: object"
      ]
     },
     "execution_count": 8,
     "metadata": {},
     "output_type": "execute_result"
    }
   ],
   "source": [
    "usedf = questions.drop(['CreationDate','Body','Title','Tags'],axis='columns')\n",
    "usedf=usedf.astype(float)\n",
    "usedf.dtypes"
   ]
  },
  {
   "cell_type": "code",
   "execution_count": 10,
   "id": "73612ba4",
   "metadata": {},
   "outputs": [],
   "source": [
    "from sklearn.cluster import KMeans"
   ]
  },
  {
   "cell_type": "code",
   "execution_count": 11,
   "id": "1ad8a56f",
   "metadata": {},
   "outputs": [],
   "source": [
    "kmeans = KMeans(n_clusters= 7)\n",
    "label = kmeans.fit_predict(usedf.to_numpy())"
   ]
  },
  {
   "cell_type": "code",
   "execution_count": 12,
   "id": "fa3fe93e",
   "metadata": {},
   "outputs": [],
   "source": [
    "model=kmeans.fit(usedf)"
   ]
  },
  {
   "cell_type": "code",
   "execution_count": 15,
   "id": "baa78f6e",
   "metadata": {},
   "outputs": [],
   "source": [
    "import joblib"
   ]
  },
  {
   "cell_type": "code",
   "execution_count": 16,
   "id": "0b3c10b5",
   "metadata": {},
   "outputs": [
    {
     "data": {
      "text/plain": [
       "['modeluse.pkl']"
      ]
     },
     "execution_count": 16,
     "metadata": {},
     "output_type": "execute_result"
    }
   ],
   "source": [
    "joblib.dump(model,'modeluse.pkl')"
   ]
  }
 ],
 "metadata": {
  "kernelspec": {
   "display_name": "Python 3 (ipykernel)",
   "language": "python",
   "name": "python3"
  },
  "language_info": {
   "codemirror_mode": {
    "name": "ipython",
    "version": 3
   },
   "file_extension": ".py",
   "mimetype": "text/x-python",
   "name": "python",
   "nbconvert_exporter": "python",
   "pygments_lexer": "ipython3",
   "version": "3.9.13"
  }
 },
 "nbformat": 4,
 "nbformat_minor": 5
}
